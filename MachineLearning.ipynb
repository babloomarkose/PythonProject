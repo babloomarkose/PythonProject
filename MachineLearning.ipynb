{
 "cells": [
  {
   "cell_type": "markdown",
   "metadata": {},
   "source": [
    "Machine Learning Algorithms from Scratch\n",
    "The Projects contain\n",
    "1. Linear Regression\n",
    "2. Linear Regression with Regularization\n",
    "3. Logistic Regression\n",
    "4. Logistic Regression with Regularization\n",
    "5. Neural Network\n",
    "6. Neural Network with Reqularization"
   ]
  },
  {
   "cell_type": "markdown",
   "metadata": {},
   "source": [
    "# Linear Regression : Single Variable\n",
    "Linear regression with one variable to predict profits for a food truck. Suppose you are the CEO of a\n",
    "restaurant franchise and are considering different cities for opening a new outlet. The chain already has trucks in\n",
    "various cities and you have data for profits and populations from the cities. You would like to use this data to \n",
    "help you select which city to expand to next.The file ex1data1.txt contains the dataset for our linear regression \n",
    "problem. The first column is the population of a city and the second column is the profit of a food truck in \n",
    "that city. A negative value for profit indicates a loss.\n",
    "\n",
    "STEPS\n",
    "1. Visualize Data\n",
    "2. Compute Cost\n",
    "3. Minimize cost using Batch Gradient Descent\n",
    "4. Regularization\n",
    "5. Feature Normalization\n"
   ]
  },
  {
   "cell_type": "code",
   "execution_count": 67,
   "metadata": {
    "scrolled": false
   },
   "outputs": [
    {
     "data": {
      "image/png": "[encoded data removed]",
      "text/plain": [
       "<Figure size 432x288 with 1 Axes>"
      ]
     },
     "metadata": {
      "needs_background": "light"
     },
     "output_type": "display_data"
    },
    {
     "name": "stdout",
     "output_type": "stream",
     "text": [
      "Cost is :  32.072733877455676\n"
     ]
    },
    {
     "ename": "ValueError",
     "evalue": "shapes (1,) and (97,) not aligned: 1 (dim 0) != 97 (dim 0)",
     "output_type": "error",
     "traceback": [
      "\u001b[0;31m---------------------------------------------------------------------------\u001b[0m",
      "\u001b[0;31mValueError\u001b[0m                                Traceback (most recent call last)",
      "\u001b[0;32m<ipython-input-67-ce4c961f4ced>\u001b[0m in \u001b[0;36m<module>\u001b[0;34m\u001b[0m\n\u001b[1;32m     52\u001b[0m \u001b[0mJ\u001b[0m\u001b[0;34m=\u001b[0m\u001b[0mCostFunction\u001b[0m\u001b[0;34m(\u001b[0m\u001b[0mX\u001b[0m\u001b[0;34m,\u001b[0m\u001b[0mY\u001b[0m\u001b[0;34m,\u001b[0m\u001b[0mTheta\u001b[0m\u001b[0;34m)\u001b[0m\u001b[0;34m\u001b[0m\u001b[0;34m\u001b[0m\u001b[0m\n\u001b[1;32m     53\u001b[0m \u001b[0mprint\u001b[0m\u001b[0;34m(\u001b[0m\u001b[0;34m\"Cost is : \"\u001b[0m\u001b[0;34m,\u001b[0m \u001b[0mJ\u001b[0m\u001b[0;34m)\u001b[0m\u001b[0;34m\u001b[0m\u001b[0;34m\u001b[0m\u001b[0m\n\u001b[0;32m---> 54\u001b[0;31m \u001b[0mgradientDescent\u001b[0m\u001b[0;34m(\u001b[0m\u001b[0mX\u001b[0m\u001b[0;34m,\u001b[0m \u001b[0mY\u001b[0m\u001b[0;34m,\u001b[0m \u001b[0mTheta\u001b[0m\u001b[0;34m,\u001b[0m \u001b[0malpha\u001b[0m\u001b[0;34m,\u001b[0m \u001b[0miterations\u001b[0m\u001b[0;34m)\u001b[0m\u001b[0;34m\u001b[0m\u001b[0;34m\u001b[0m\u001b[0m\n\u001b[0m\u001b[1;32m     55\u001b[0m \u001b[0;34m\u001b[0m\u001b[0m\n\u001b[1;32m     56\u001b[0m \u001b[0;34m\u001b[0m\u001b[0m\n",
      "\u001b[0;32m<ipython-input-67-ce4c961f4ced>\u001b[0m in \u001b[0;36mgradientDescent\u001b[0;34m(X, Y, theta, alpha, num_iters)\u001b[0m\n\u001b[1;32m     40\u001b[0m     \u001b[0;32mfor\u001b[0m \u001b[0mi\u001b[0m \u001b[0;32min\u001b[0m \u001b[0mrange\u001b[0m\u001b[0;34m(\u001b[0m\u001b[0;36m0\u001b[0m\u001b[0;34m,\u001b[0m\u001b[0mnum_iters\u001b[0m\u001b[0;34m)\u001b[0m\u001b[0;34m:\u001b[0m\u001b[0;34m\u001b[0m\u001b[0;34m\u001b[0m\u001b[0m\n\u001b[1;32m     41\u001b[0m         \u001b[0mxj\u001b[0m \u001b[0;34m=\u001b[0m \u001b[0mX\u001b[0m\u001b[0;34m[\u001b[0m\u001b[0;34m:\u001b[0m\u001b[0;34m,\u001b[0m\u001b[0;36m1\u001b[0m\u001b[0;34m]\u001b[0m\u001b[0;34m\u001b[0m\u001b[0;34m\u001b[0m\u001b[0m\n\u001b[0;32m---> 42\u001b[0;31m         \u001b[0mpredicted_y\u001b[0m \u001b[0;34m=\u001b[0m \u001b[0mtheta\u001b[0m\u001b[0;34m[\u001b[0m\u001b[0;34m:\u001b[0m\u001b[0;34m,\u001b[0m\u001b[0;36m0\u001b[0m\u001b[0;34m]\u001b[0m \u001b[0;34m+\u001b[0m \u001b[0;34m(\u001b[0m\u001b[0mtheta\u001b[0m\u001b[0;34m[\u001b[0m\u001b[0;34m:\u001b[0m\u001b[0;34m,\u001b[0m\u001b[0;36m1\u001b[0m\u001b[0;34m]\u001b[0m\u001b[0;34m.\u001b[0m\u001b[0mdot\u001b[0m\u001b[0;34m(\u001b[0m\u001b[0mxj\u001b[0m\u001b[0;34m)\u001b[0m\u001b[0;34m)\u001b[0m\u001b[0;34m\u001b[0m\u001b[0;34m\u001b[0m\u001b[0m\n\u001b[0m\u001b[1;32m     43\u001b[0m \u001b[0;34m\u001b[0m\u001b[0m\n\u001b[1;32m     44\u001b[0m         \u001b[0mtheta_zero\u001b[0m \u001b[0;34m=\u001b[0m \u001b[0mtheta\u001b[0m\u001b[0;34m[\u001b[0m\u001b[0;34m:\u001b[0m\u001b[0;34m,\u001b[0m\u001b[0;36m0\u001b[0m\u001b[0;34m]\u001b[0m \u001b[0;34m-\u001b[0m \u001b[0malpha\u001b[0m \u001b[0;34m*\u001b[0m \u001b[0;34m(\u001b[0m\u001b[0;36m1\u001b[0m\u001b[0;34m/\u001b[0m\u001b[0mm\u001b[0m\u001b[0;34m)\u001b[0m \u001b[0;34m*\u001b[0m \u001b[0msum\u001b[0m\u001b[0;34m(\u001b[0m\u001b[0mpredicted_y\u001b[0m\u001b[0;34m-\u001b[0m\u001b[0my\u001b[0m\u001b[0;34m)\u001b[0m\u001b[0;34m\u001b[0m\u001b[0;34m\u001b[0m\u001b[0m\n",
      "\u001b[0;31mValueError\u001b[0m: shapes (1,) and (97,) not aligned: 1 (dim 0) != 97 (dim 0)"
     ]
    }
   ],
   "source": [
    "# Linear Regression\n",
    "\n",
    "#STEP 1 Visualizing the Data\n",
    "\n",
    "import numpy as np\n",
    "import matplotlib.pyplot as plt\n",
    "import pandas as pd \n",
    "import os\n",
    "\n",
    "#Load Data\n",
    "df=pd.read_csv('/Users/jacobdenny/Desktop/Babloo/Masters/Semester3/Python/machine-learning-1/ex1/ex1data1.txt')\n",
    "DataTable=df.to_numpy()\n",
    "\n",
    "x=DataTable[:,0]\n",
    "m=len(x)\n",
    "X=np.c_[ np.ones(m),x ] \n",
    "Y=DataTable[:,1]\n",
    "Theta=np.zeros((1,2))\n",
    "iterations = 1500;\n",
    "alpha = 0.01;\n",
    "\n",
    "#Plot data\n",
    "def PlotScatter():\n",
    "    df.plot.scatter(x='Coloumn1',y='Coloumn2',s=5,c='red',alpha=0.6)\n",
    "    plt.title('Population to profit');\n",
    "    plt.show()\n",
    "\n",
    "\n",
    "# STEP 2 Compute Cost\n",
    "def CostFunction(X,Y,Theta):\n",
    "    Predicted=Theta.dot(X.T);\n",
    "    SquaredDifference=np.square(Predicted-Y);\n",
    "    SumSquaredDifference= np.sum(SquaredDifference);\n",
    "    J = SumSquaredDifference/(2*m);\n",
    "    return(J)\n",
    "#Gradient Descent\n",
    "def gradientDescent(X, Y, theta, alpha, num_iters):\n",
    "    m = len(Y); # number of training examples\n",
    "    J_old = np.zeros(num_iters);\n",
    "    for i in range(0,num_iters):\n",
    "        xj = X[:,1]\n",
    "        predicted_y = theta[:,0] + (theta[:,1].dot(xj))\n",
    "    \n",
    "        theta_zero = theta[:,0] - alpha * (1/m) * sum(predicted_y-y)\n",
    "        theta_one  = theta(2) - alpha * (1/m) * sum((predicted_y - y).dot(xj))\n",
    "        theta=np.c_[ theta_zero,theta_one] \n",
    "        # Save the cost J in every iteration    \n",
    "        J_old[i] = CostFunction(X, y, theta);\n",
    "    \n",
    "    \n",
    "PlotScatter()\n",
    "J=CostFunction(X,Y,Theta)\n",
    "print(\"Cost is : \", J)\n",
    "gradientDescent(X, Y, Theta, alpha, iterations)\n",
    "\n",
    "    "
   ]
  },
  {
   "cell_type": "code",
   "execution_count": 15,
   "metadata": {},
   "outputs": [
    {
     "data": {
      "text/plain": [
       "'/Users/jacobdenny/Desktop/Babloo/Masters/Semester3/Python'"
      ]
     },
     "execution_count": 15,
     "metadata": {},
     "output_type": "execute_result"
    }
   ],
   "source": []
  },
  {
   "cell_type": "code",
   "execution_count": null,
   "metadata": {},
   "outputs": [],
   "source": []
  }
 ],
 "metadata": {
  "kernelspec": {
   "display_name": "Python 3",
   "language": "python",
   "name": "python3"
  },
  "language_info": {
   "codemirror_mode": {
    "name": "ipython",
    "version": 3
   },
   "file_extension": ".py",
   "mimetype": "text/x-python",
   "name": "python",
   "nbconvert_exporter": "python",
   "pygments_lexer": "ipython3",
   "version": "3.7.3"
  }
 },
 "nbformat": 4,
 "nbformat_minor": 2
}
