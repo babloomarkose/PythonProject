{
 "cells": [
  {
   "cell_type": "markdown",
   "metadata": {},
   "source": [
    "Machine Learning Algorithms from Scratch\n",
    "The Projects contain\n",
    "1. Linear Regression\n",
    "2. Linear Regression with Regularization\n",
    "3. Logistic Regression\n",
    "4. Logistic Regression with Regularization\n",
    "5. Neural Network\n",
    "6. Neural Network with Reqularization"
   ]
  },
  {
   "cell_type": "markdown",
   "metadata": {},
   "source": [
    "# Linear Regression : Single Variable\n",
    "Linear regression with one variable to predict profits for a food truck. Suppose you are the CEO of a\n",
    "restaurant franchise and are considering different cities for opening a new outlet. The chain already has trucks in\n",
    "various cities and you have data for profits and populations from the cities. You would like to use this data to \n",
    "help you select which city to expand to next.The file ex1data1.txt contains the dataset for our linear regression \n",
    "problem. The first column is the population of a city and the second column is the profit of a food truck in \n",
    "that city. A negative value for profit indicates a loss.\n",
    "\n",
    "STEPS\n",
    "1. Visualize Data\n",
    "2. Compute Cost\n",
    "3. Minimize cost using Batch Gradient Descent\n",
    "4. Regularization\n",
    "5. Feature Normalization\n"
   ]
  },
  {
   "cell_type": "code",
   "execution_count": 85,
   "metadata": {
    "scrolled": false
   },
   "outputs": [
    {
     "ename": "SyntaxError",
     "evalue": "invalid syntax (<ipython-input-85-d03b6124e0d3>, line 25)",
     "output_type": "error",
     "traceback": [
      "\u001b[0;36m  File \u001b[0;32m\"<ipython-input-85-d03b6124e0d3>\"\u001b[0;36m, line \u001b[0;32m25\u001b[0m\n\u001b[0;31m    X = [ones(m, 1), data(:,1)]; % Add a column of ones to x\u001b[0m\n\u001b[0m                          ^\u001b[0m\n\u001b[0;31mSyntaxError\u001b[0m\u001b[0;31m:\u001b[0m invalid syntax\n"
     ]
    }
   ],
   "source": [
    "# Linear Regression\n",
    "\n",
    "#STEP 1 Visualizing the Data\n",
    "\n",
    "import numpy as np\n",
    "import matplotlib.pyplot as plt\n",
    "import pandas as pd \n",
    "import os\n",
    "\n",
    "#Load Data\n",
    "df=pd.read_csv('/Users/jacobdenny/Desktop/Babloo/Masters/Semester3/Python/machine-learning-1/ex1/ex1data1.txt')\n",
    "#print(df)\n",
    "X=df[['Coloumn1']]\n",
    "Y=df[['Coloumn2']]\n",
    "m=len(df)\n",
    "\n",
    "#Plot data\n",
    "\n",
    "df.plot.scatter(x='Coloumn1',y='Coloumn2',s=5,c='red',alpha=0.6)\n",
    "plt.title('Population to profit');\n",
    "plt.show()\n",
    "\n",
    "# STEP 2 Compute Cost\n",
    "#Add another row with value 1 to X\n",
    "X = [ones(m, 1), data(:,1)]; % Add a column of ones to x\n",
    "#columns = ['col{}'.format(i) for i in range(36)]\n",
    "#x = pd.DataFrame(np.random.random((1062, 36)), columns=columns)\n",
    "#y = pd.DataFrame(np.random.random((36, 36)))\n",
    "\n",
    "#print(np.dot(x, y).shape)\n",
    "# (1062, 36)\n",
    "\n",
    "print(x.dot(y).shape)\n",
    "# ValueError: matrices are not aligned\n",
    "#theta = zeros(2, 1); % initialize fitting parameters\n",
    "#iterations = 1500;\n",
    "#alpha = 0.01;\n",
    "\n",
    "\n",
    "#Gradient Descent\n"
   ]
  },
  {
   "cell_type": "code",
   "execution_count": 15,
   "metadata": {},
   "outputs": [
    {
     "data": {
      "text/plain": [
       "'/Users/jacobdenny/Desktop/Babloo/Masters/Semester3/Python'"
      ]
     },
     "execution_count": 15,
     "metadata": {},
     "output_type": "execute_result"
    }
   ],
   "source": []
  },
  {
   "cell_type": "code",
   "execution_count": null,
   "metadata": {},
   "outputs": [],
   "source": []
  }
 ],
 "metadata": {
  "kernelspec": {
   "display_name": "Python 3",
   "language": "python",
   "name": "python3"
  },
  "language_info": {
   "codemirror_mode": {
    "name": "ipython",
    "version": 3
   },
   "file_extension": ".py",
   "mimetype": "text/x-python",
   "name": "python",
   "nbconvert_exporter": "python",
   "pygments_lexer": "ipython3",
   "version": "3.7.3"
  }
 },
 "nbformat": 4,
 "nbformat_minor": 2
}
